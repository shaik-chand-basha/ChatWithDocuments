{
 "cells": [
  {
   "cell_type": "code",
   "execution_count": 10,
   "id": "a61720e9-7b07-48ff-8a99-9f5a5313f11c",
   "metadata": {},
   "outputs": [],
   "source": [
    "import os\n",
    "import random\n",
    "import streamlit as st\n",
    "from dotenv import load_dotenv\n",
    "\n",
    "load_dotenv('./credentials.env')\n",
    "OPENAI_API_KEY = os.environ.get(\"OPENAI_API_KEY\")"
   ]
  },
  {
   "cell_type": "code",
   "execution_count": 4,
   "id": "c5a48dc2-8ebe-481b-816b-5d4fdc4095ee",
   "metadata": {},
   "outputs": [],
   "source": []
  },
  {
   "cell_type": "code",
   "execution_count": 11,
   "id": "5e82be2c-df50-4bb0-9367-a0a3cec58b41",
   "metadata": {},
   "outputs": [],
   "source": [
    "from langchain.chat_models import ChatOpenAI\n",
    "from langchain.document_loaders import UnstructuredPDFLoader,UnstructuredPowerPointLoader,UnstructuredWordDocumentLoader,TextLoader,UnstructuredFileLoader,UnstructuredCSVLoader,UnstructuredExcelLoader\n",
    "from langchain.document_loaders import PyPDFLoader\n",
    "from langchain.memory import ConversationBufferMemory\n",
    "from langchain.embeddings import OpenAIEmbeddings\n",
    "from langchain.chains import ConversationalRetrievalChain\n",
    "from langchain.vectorstores import DocArrayInMemorySearch\n",
    "from langchain.text_splitter import RecursiveCharacterTextSplitter\n",
    "from langchain.vectorstores import FAISS"
   ]
  },
  {
   "cell_type": "code",
   "execution_count": 12,
   "id": "3637f4e3-cac0-496b-ab52-654117846adb",
   "metadata": {},
   "outputs": [],
   "source": [
    "docs = []"
   ]
  },
  {
   "cell_type": "code",
   "execution_count": 13,
   "id": "bf694ba5-4d07-4d03-b1e8-e52d2567e358",
   "metadata": {},
   "outputs": [],
   "source": [
    "import streamlit as st"
   ]
  },
  {
   "cell_type": "code",
   "execution_count": 14,
   "id": "ad5f27da-0e45-4ef5-95e2-58fbcc74af9e",
   "metadata": {},
   "outputs": [
    {
     "name": "stderr",
     "output_type": "stream",
     "text": [
      "2023-10-11 19:44:41.389 \n",
      "  \u001b[33m\u001b[1mWarning:\u001b[0m to view this Streamlit app on a browser, run it with the following\n",
      "  command:\n",
      "\n",
      "    streamlit run C:\\Users\\ChandPashaShaik\\AppData\\Roaming\\Python\\Python311\\site-packages\\ipykernel_launcher.py [ARGUMENTS]\n"
     ]
    }
   ],
   "source": [
    "file = st.file_uploader(label=\"file\")"
   ]
  },
  {
   "cell_type": "code",
   "execution_count": 15,
   "id": "daf053f5-826d-4843-82d0-272a4447bedc",
   "metadata": {},
   "outputs": [],
   "source": [
    "FILE_TYPES = [\"csv\", \"xlsx\", \"pdf\", \"txt\",\"pptx\",\"docx\"]"
   ]
  },
  {
   "cell_type": "markdown",
   "id": "9049617d-5247-4f3d-9f8e-9a8fcab473b0",
   "metadata": {},
   "source": [
    "#### Handle Except csv files everything"
   ]
  },
  {
   "cell_type": "code",
   "execution_count": 16,
   "id": "963d02f1-e14e-4e0d-90e6-1016487f1942",
   "metadata": {},
   "outputs": [],
   "source": [
    "text_splitter = RecursiveCharacterTextSplitter(chunk_size=13000,chunk_overlap=0,separators=[\"\\n\\n\",\"\\n\",\" \",\"\"])\n"
   ]
  },
  {
   "cell_type": "code",
   "execution_count": 18,
   "id": "284913a5-786f-4834-80e9-8f6e6d25de91",
   "metadata": {},
   "outputs": [],
   "source": [
    "file_path =f\"../resources/Data Request.xlsx\"\n",
    "file_extention = file_path.replace(\"/\",\"\").split(\".\")[-1]\n",
    "docs = []\n",
    "if file_extention == \"txt\":\n",
    "    docs.extend(TextLoader(file_path=file_path,encoding=\"UTF-8\").load_and_split(text_splitter))\n",
    "elif file_extention == \"pdf\":\n",
    "    docs.extend(UnstructuredPDFLoader(file_path=file_path).load_and_split(text_splitter))\n",
    "elif file_extention == \"pptx\":\n",
    "    docs.extend(UnstructuredPowerPointLoader(file_path=file_path).load_and_split(text_splitter))\n",
    "elif file_extention == \"docx\":\n",
    "    docs.extend(UnstructuredWordDocumentLoader(file_path=file_path).load_and_split(text_splitter))"
   ]
  },
  {
   "cell_type": "code",
   "execution_count": null,
   "id": "11f61bf6-968e-48d5-9b8a-7e4d82e336a3",
   "metadata": {},
   "outputs": [],
   "source": [
    "docs"
   ]
  },
  {
   "cell_type": "code",
   "execution_count": 19,
   "id": "0013e1c2-2b65-4aee-822a-d8087100f5a3",
   "metadata": {},
   "outputs": [
    {
     "ename": "IndexError",
     "evalue": "list index out of range",
     "output_type": "error",
     "traceback": [
      "\u001b[1;31m---------------------------------------------------------------------------\u001b[0m",
      "\u001b[1;31mIndexError\u001b[0m                                Traceback (most recent call last)",
      "Cell \u001b[1;32mIn[19], line 1\u001b[0m\n\u001b[1;32m----> 1\u001b[0m vectorstore \u001b[38;5;241m=\u001b[39m \u001b[43mFAISS\u001b[49m\u001b[38;5;241;43m.\u001b[39;49m\u001b[43mfrom_documents\u001b[49m\u001b[43m(\u001b[49m\u001b[43mdocuments\u001b[49m\u001b[38;5;241;43m=\u001b[39;49m\u001b[43mdocs\u001b[49m\u001b[43m,\u001b[49m\u001b[43membedding\u001b[49m\u001b[38;5;241;43m=\u001b[39;49m\u001b[43mOpenAIEmbeddings\u001b[49m\u001b[43m(\u001b[49m\u001b[43m)\u001b[49m\u001b[43m)\u001b[49m\n",
      "File \u001b[1;32m~\\anaconda3\\envs\\langchain\\Lib\\site-packages\\langchain\\schema\\vectorstore.py:422\u001b[0m, in \u001b[0;36mVectorStore.from_documents\u001b[1;34m(cls, documents, embedding, **kwargs)\u001b[0m\n\u001b[0;32m    420\u001b[0m texts \u001b[38;5;241m=\u001b[39m [d\u001b[38;5;241m.\u001b[39mpage_content \u001b[38;5;28;01mfor\u001b[39;00m d \u001b[38;5;129;01min\u001b[39;00m documents]\n\u001b[0;32m    421\u001b[0m metadatas \u001b[38;5;241m=\u001b[39m [d\u001b[38;5;241m.\u001b[39mmetadata \u001b[38;5;28;01mfor\u001b[39;00m d \u001b[38;5;129;01min\u001b[39;00m documents]\n\u001b[1;32m--> 422\u001b[0m \u001b[38;5;28;01mreturn\u001b[39;00m \u001b[38;5;28;43mcls\u001b[39;49m\u001b[38;5;241;43m.\u001b[39;49m\u001b[43mfrom_texts\u001b[49m\u001b[43m(\u001b[49m\u001b[43mtexts\u001b[49m\u001b[43m,\u001b[49m\u001b[43m \u001b[49m\u001b[43membedding\u001b[49m\u001b[43m,\u001b[49m\u001b[43m \u001b[49m\u001b[43mmetadatas\u001b[49m\u001b[38;5;241;43m=\u001b[39;49m\u001b[43mmetadatas\u001b[49m\u001b[43m,\u001b[49m\u001b[43m \u001b[49m\u001b[38;5;241;43m*\u001b[39;49m\u001b[38;5;241;43m*\u001b[39;49m\u001b[43mkwargs\u001b[49m\u001b[43m)\u001b[49m\n",
      "File \u001b[1;32m~\\anaconda3\\envs\\langchain\\Lib\\site-packages\\langchain\\vectorstores\\faiss.py:603\u001b[0m, in \u001b[0;36mFAISS.from_texts\u001b[1;34m(cls, texts, embedding, metadatas, ids, **kwargs)\u001b[0m\n\u001b[0;32m    584\u001b[0m \u001b[38;5;250m\u001b[39m\u001b[38;5;124;03m\"\"\"Construct FAISS wrapper from raw documents.\u001b[39;00m\n\u001b[0;32m    585\u001b[0m \n\u001b[0;32m    586\u001b[0m \u001b[38;5;124;03mThis is a user friendly interface that:\u001b[39;00m\n\u001b[1;32m   (...)\u001b[0m\n\u001b[0;32m    600\u001b[0m \u001b[38;5;124;03m        faiss = FAISS.from_texts(texts, embeddings)\u001b[39;00m\n\u001b[0;32m    601\u001b[0m \u001b[38;5;124;03m\"\"\"\u001b[39;00m\n\u001b[0;32m    602\u001b[0m embeddings \u001b[38;5;241m=\u001b[39m embedding\u001b[38;5;241m.\u001b[39membed_documents(texts)\n\u001b[1;32m--> 603\u001b[0m \u001b[38;5;28;01mreturn\u001b[39;00m \u001b[38;5;28;43mcls\u001b[39;49m\u001b[38;5;241;43m.\u001b[39;49m\u001b[43m__from\u001b[49m\u001b[43m(\u001b[49m\n\u001b[0;32m    604\u001b[0m \u001b[43m    \u001b[49m\u001b[43mtexts\u001b[49m\u001b[43m,\u001b[49m\n\u001b[0;32m    605\u001b[0m \u001b[43m    \u001b[49m\u001b[43membeddings\u001b[49m\u001b[43m,\u001b[49m\n\u001b[0;32m    606\u001b[0m \u001b[43m    \u001b[49m\u001b[43membedding\u001b[49m\u001b[43m,\u001b[49m\n\u001b[0;32m    607\u001b[0m \u001b[43m    \u001b[49m\u001b[43mmetadatas\u001b[49m\u001b[38;5;241;43m=\u001b[39;49m\u001b[43mmetadatas\u001b[49m\u001b[43m,\u001b[49m\n\u001b[0;32m    608\u001b[0m \u001b[43m    \u001b[49m\u001b[43mids\u001b[49m\u001b[38;5;241;43m=\u001b[39;49m\u001b[43mids\u001b[49m\u001b[43m,\u001b[49m\n\u001b[0;32m    609\u001b[0m \u001b[43m    \u001b[49m\u001b[38;5;241;43m*\u001b[39;49m\u001b[38;5;241;43m*\u001b[39;49m\u001b[43mkwargs\u001b[49m\u001b[43m,\u001b[49m\n\u001b[0;32m    610\u001b[0m \u001b[43m\u001b[49m\u001b[43m)\u001b[49m\n",
      "File \u001b[1;32m~\\anaconda3\\envs\\langchain\\Lib\\site-packages\\langchain\\vectorstores\\faiss.py:562\u001b[0m, in \u001b[0;36mFAISS.__from\u001b[1;34m(cls, texts, embeddings, embedding, metadatas, ids, normalize_L2, distance_strategy, **kwargs)\u001b[0m\n\u001b[0;32m    559\u001b[0m     index \u001b[38;5;241m=\u001b[39m faiss\u001b[38;5;241m.\u001b[39mIndexFlatIP(\u001b[38;5;28mlen\u001b[39m(embeddings[\u001b[38;5;241m0\u001b[39m]))\n\u001b[0;32m    560\u001b[0m \u001b[38;5;28;01melse\u001b[39;00m:\n\u001b[0;32m    561\u001b[0m     \u001b[38;5;66;03m# Default to L2, currently other metric types not initialized.\u001b[39;00m\n\u001b[1;32m--> 562\u001b[0m     index \u001b[38;5;241m=\u001b[39m faiss\u001b[38;5;241m.\u001b[39mIndexFlatL2(\u001b[38;5;28mlen\u001b[39m(\u001b[43membeddings\u001b[49m\u001b[43m[\u001b[49m\u001b[38;5;241;43m0\u001b[39;49m\u001b[43m]\u001b[49m))\n\u001b[0;32m    563\u001b[0m vecstore \u001b[38;5;241m=\u001b[39m \u001b[38;5;28mcls\u001b[39m(\n\u001b[0;32m    564\u001b[0m     embedding\u001b[38;5;241m.\u001b[39membed_query,\n\u001b[0;32m    565\u001b[0m     index,\n\u001b[1;32m   (...)\u001b[0m\n\u001b[0;32m    570\u001b[0m     \u001b[38;5;241m*\u001b[39m\u001b[38;5;241m*\u001b[39mkwargs,\n\u001b[0;32m    571\u001b[0m )\n\u001b[0;32m    572\u001b[0m vecstore\u001b[38;5;241m.\u001b[39m__add(texts, embeddings, metadatas\u001b[38;5;241m=\u001b[39mmetadatas, ids\u001b[38;5;241m=\u001b[39mids)\n",
      "\u001b[1;31mIndexError\u001b[0m: list index out of range"
     ]
    }
   ],
   "source": [
    "vectorstore = FAISS.from_documents(documents=docs,embedding=OpenAIEmbeddings())"
   ]
  },
  {
   "cell_type": "code",
   "execution_count": 24,
   "id": "0535a47c-81f3-4578-af30-8f64f136a99f",
   "metadata": {},
   "outputs": [
    {
     "ename": "NameError",
     "evalue": "name 'vectorstore' is not defined",
     "output_type": "error",
     "traceback": [
      "\u001b[1;31m---------------------------------------------------------------------------\u001b[0m",
      "\u001b[1;31mNameError\u001b[0m                                 Traceback (most recent call last)",
      "Cell \u001b[1;32mIn[24], line 7\u001b[0m\n\u001b[0;32m      1\u001b[0m llm \u001b[38;5;241m=\u001b[39m ChatOpenAI(model\u001b[38;5;241m=\u001b[39m\u001b[38;5;124m\"\u001b[39m\u001b[38;5;124mgpt-3.5-turbo-16k\u001b[39m\u001b[38;5;124m\"\u001b[39m)\n\u001b[0;32m      3\u001b[0m memory \u001b[38;5;241m=\u001b[39m ConversationBufferMemory(\n\u001b[0;32m      4\u001b[0m         memory_key\u001b[38;5;241m=\u001b[39m\u001b[38;5;124m'\u001b[39m\u001b[38;5;124mchat_history\u001b[39m\u001b[38;5;124m'\u001b[39m, return_messages\u001b[38;5;241m=\u001b[39m\u001b[38;5;28;01mTrue\u001b[39;00m)\n\u001b[0;32m      5\u001b[0m conversation_chain \u001b[38;5;241m=\u001b[39m ConversationalRetrievalChain\u001b[38;5;241m.\u001b[39mfrom_llm(\n\u001b[0;32m      6\u001b[0m         llm\u001b[38;5;241m=\u001b[39mllm,\n\u001b[1;32m----> 7\u001b[0m         retriever\u001b[38;5;241m=\u001b[39m\u001b[43mvectorstore\u001b[49m\u001b[38;5;241m.\u001b[39mas_retriever(),\n\u001b[0;32m      8\u001b[0m         chain_type\u001b[38;5;241m=\u001b[39m\u001b[38;5;124m\"\u001b[39m\u001b[38;5;124mmap_reduce\u001b[39m\u001b[38;5;124m\"\u001b[39m,\n\u001b[0;32m      9\u001b[0m         memory\u001b[38;5;241m=\u001b[39mmemory\n\u001b[0;32m     10\u001b[0m     )\n",
      "\u001b[1;31mNameError\u001b[0m: name 'vectorstore' is not defined"
     ]
    }
   ],
   "source": [
    "\n",
    "\n",
    "memory = ConversationBufferMemory(\n",
    "        memory_key='chat_history', return_messages=True)\n",
    "conversation_chain = ConversationalRetrievalChain.from_llm(\n",
    "        llm=llm,\n",
    "        retriever=vectorstore.as_retriever(),\n",
    "        chain_type=\"map_reduce\",\n",
    "        memory=memory\n",
    "    )"
   ]
  },
  {
   "cell_type": "code",
   "execution_count": 46,
   "id": "fb035347-ea07-42ae-84c5-309249455f76",
   "metadata": {},
   "outputs": [],
   "source": [
    "import uuid"
   ]
  },
  {
   "cell_type": "code",
   "execution_count": 25,
   "id": "74656f29-0ddd-4d24-86c0-f0ecbcdc928a",
   "metadata": {},
   "outputs": [],
   "source": [
    "llm = ChatOpenAI(model=\"gpt-3.5-turbo-16k\")"
   ]
  },
  {
   "cell_type": "code",
   "execution_count": 53,
   "id": "b26c8854-a116-49ef-a455-6e7ea1663413",
   "metadata": {},
   "outputs": [],
   "source": [
    "randomId = str(uuid.uuid1()).replace(\"-\",\"\")"
   ]
  },
  {
   "cell_type": "code",
   "execution_count": 20,
   "id": "1429c0b1-40fb-4804-bfab-2199d331a85a",
   "metadata": {},
   "outputs": [],
   "source": [
    "from langchain import agents"
   ]
  },
  {
   "cell_type": "code",
   "execution_count": 21,
   "id": "98d41842-9c75-4088-9db9-34d860ebb19f",
   "metadata": {},
   "outputs": [],
   "source": [
    "import pandas"
   ]
  },
  {
   "cell_type": "code",
   "execution_count": 22,
   "id": "a2c5eaaa-5440-461c-b894-8a405067a387",
   "metadata": {},
   "outputs": [],
   "source": [
    "df = pandas.read_csv(\"../resources/Data Request.csv\")"
   ]
  },
  {
   "cell_type": "code",
   "execution_count": 26,
   "id": "0a12f2a6-9506-4ac5-97bb-2cfa231f0cd5",
   "metadata": {},
   "outputs": [],
   "source": [
    "agent = agents.create_pandas_dataframe_agent(llm,df=df,handle_parsing_errors=True,verbose=True)"
   ]
  },
  {
   "cell_type": "code",
   "execution_count": 27,
   "id": "39f11994-1851-4deb-bade-3f2d91a90ca8",
   "metadata": {},
   "outputs": [],
   "source": [
    "import sys\n",
    "import io\n",
    "\n",
    "# Create a custom stream to capture output\n",
    "output_stream = io.StringIO()\n",
    "sys.stdout = output_stream\n",
    "\n",
    "# Import and use the third-party module that generates plots\n",
    "\n",
    "# Get the captured output\n",
    "\n",
    "\n",
    "# Parse the captured output for plots\n",
    "# This might require some text parsing to identify and extract plot data\n"
   ]
  },
  {
   "cell_type": "code",
   "execution_count": 30,
   "id": "614b7ceb-7fbf-4dea-b265-2b3d9a8b62fb",
   "metadata": {},
   "outputs": [],
   "source": [
    "import matplotlib.pyplot as plt\n"
   ]
  },
  {
   "cell_type": "code",
   "execution_count": 33,
   "id": "0e9db120-5b1c-475f-b771-3b9b78b29f9b",
   "metadata": {},
   "outputs": [],
   "source": [
    "def capture_and_save_current_figure():\n",
    "    fig = plt.gcf()\n",
    "    if fig:\n",
    "        # Generate a unique filename or save with a timestamp\n",
    "        filename = f\"captured_plot.png\"\n",
    "        fig.savefig(filename)\n",
    "        plt.close(fig)"
   ]
  },
  {
   "cell_type": "code",
   "execution_count": 36,
   "id": "1c7b59b8-058d-4254-b956-564011b9e6de",
   "metadata": {},
   "outputs": [],
   "source": [
    "capture_and_save_current_figure()"
   ]
  },
  {
   "cell_type": "code",
   "execution_count": null,
   "id": "65983c71-0c79-404c-8d6d-8568dee17b2a",
   "metadata": {},
   "outputs": [],
   "source": [
    "agent.run(\"plot a pie chart for top 10 cities\")"
   ]
  },
  {
   "cell_type": "code",
   "execution_count": null,
   "id": "813b9f6f-1e4c-4db9-8b85-79b89f06f9e5",
   "metadata": {},
   "outputs": [],
   "source": [
    "plt.gcf"
   ]
  },
  {
   "cell_type": "code",
   "execution_count": null,
   "id": "f908a96b-cd87-449e-a13e-c3ac40e8a869",
   "metadata": {},
   "outputs": [],
   "source": [
    "import sys\n",
    "import matplotlib.pyplot as plt\n",
    "\n",
    "# A custom function to capture and save the figure\n",
    "def capture_and_save_figure(figure):\n",
    "    figure.savefig('captured_plot.png')\n",
    "    plt.close(figure)\n",
    "\n",
    "# Custom trace function to capture plot figures\n",
    "def trace_plot_calls(frame, event, arg):\n",
    "    if event == 'call':\n",
    "        # Capture the current figure and save it\n",
    "        fig = plt.gcf()\n",
    "        if fig:\n",
    "            capture_and_save_figure(fig)\n",
    "\n",
    "# Set up the trace function\n",
    "sys.settrace(None)\n"
   ]
  }
 ],
 "metadata": {
  "kernelspec": {
   "display_name": "Python 3 (ipykernel)",
   "language": "python",
   "name": "python3"
  },
  "language_info": {
   "codemirror_mode": {
    "name": "ipython",
    "version": 3
   },
   "file_extension": ".py",
   "mimetype": "text/x-python",
   "name": "python",
   "nbconvert_exporter": "python",
   "pygments_lexer": "ipython3",
   "version": "3.11.5"
  }
 },
 "nbformat": 4,
 "nbformat_minor": 5
}
