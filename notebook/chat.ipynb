{
 "cells": [
  {
   "cell_type": "code",
   "execution_count": 10,
   "id": "a61720e9-7b07-48ff-8a99-9f5a5313f11c",
   "metadata": {},
   "outputs": [],
   "source": [
    "import os\n",
    "import random\n",
    "import streamlit as st\n",
    "from dotenv import load_dotenv\n",
    "\n",
    "load_dotenv('./credentials.env')\n",
    "OPENAI_API_KEY = os.environ.get(\"OPENAI_API_KEY\")"
   ]
  },
  {
   "cell_type": "code",
   "execution_count": 4,
   "id": "c5a48dc2-8ebe-481b-816b-5d4fdc4095ee",
   "metadata": {},
   "outputs": [],
   "source": []
  },
  {
   "cell_type": "code",
   "execution_count": 11,
   "id": "5e82be2c-df50-4bb0-9367-a0a3cec58b41",
   "metadata": {},
   "outputs": [],
   "source": [
    "from langchain.chat_models import ChatOpenAI\n",
    "from langchain.document_loaders import UnstructuredPDFLoader,UnstructuredPowerPointLoader,UnstructuredWordDocumentLoader,TextLoader,UnstructuredFileLoader,UnstructuredCSVLoader,UnstructuredExcelLoader\n",
    "from langchain.document_loaders import PyPDFLoader\n",
    "from langchain.memory import ConversationBufferMemory\n",
    "from langchain.embeddings import OpenAIEmbeddings\n",
    "from langchain.chains import ConversationalRetrievalChain\n",
    "from langchain.vectorstores import DocArrayInMemorySearch\n",
    "from langchain.text_splitter import RecursiveCharacterTextSplitter\n",
    "from langchain.vectorstores import FAISS"
   ]
  },
  {
   "cell_type": "code",
   "execution_count": 12,
   "id": "3637f4e3-cac0-496b-ab52-654117846adb",
   "metadata": {},
   "outputs": [],
   "source": [
    "docs = []"
   ]
  },
  {
   "cell_type": "code",
   "execution_count": 13,
   "id": "bf694ba5-4d07-4d03-b1e8-e52d2567e358",
   "metadata": {},
   "outputs": [],
   "source": [
    "import streamlit as st"
   ]
  },
  {
   "cell_type": "code",
   "execution_count": 14,
   "id": "ad5f27da-0e45-4ef5-95e2-58fbcc74af9e",
   "metadata": {},
   "outputs": [
    {
     "name": "stderr",
     "output_type": "stream",
     "text": [
      "2023-10-11 19:44:41.389 \n",
      "  \u001b[33m\u001b[1mWarning:\u001b[0m to view this Streamlit app on a browser, run it with the following\n",
      "  command:\n",
      "\n",
      "    streamlit run C:\\Users\\ChandPashaShaik\\AppData\\Roaming\\Python\\Python311\\site-packages\\ipykernel_launcher.py [ARGUMENTS]\n"
     ]
    }
   ],
   "source": [
    "file = st.file_uploader(label=\"file\")"
   ]
  },
  {
   "cell_type": "code",
   "execution_count": 15,
   "id": "daf053f5-826d-4843-82d0-272a4447bedc",
   "metadata": {},
   "outputs": [],
   "source": [
    "FILE_TYPES = [\"csv\", \"xlsx\", \"pdf\", \"txt\",\"pptx\",\"docx\"]"
   ]
  },
  {
   "cell_type": "markdown",
   "id": "9049617d-5247-4f3d-9f8e-9a8fcab473b0",
   "metadata": {},
   "source": [
    "#### Handle Except csv files everything"
   ]
  },
  {
   "cell_type": "code",
   "execution_count": 16,
   "id": "963d02f1-e14e-4e0d-90e6-1016487f1942",
   "metadata": {},
   "outputs": [],
   "source": [
    "text_splitter = RecursiveCharacterTextSplitter(chunk_size=13000,chunk_overlap=0,separators=[\"\\n\\n\",\"\\n\",\" \",\"\"])\n"
   ]
  },
  {
   "cell_type": "code",
   "execution_count": 18,
   "id": "284913a5-786f-4834-80e9-8f6e6d25de91",
   "metadata": {},
   "outputs": [],
   "source": [
    "file_path =f\"../resources/Data Request.xlsx\"\n",
    "file_extention = file_path.replace(\"/\",\"\").split(\".\")[-1]\n",
    "docs = []\n",
    "if file_extention == \"txt\":\n",
    "    docs.extend(TextLoader(file_path=file_path,encoding=\"UTF-8\").load_and_split(text_splitter))\n",
    "elif file_extention == \"pdf\":\n",
    "    docs.extend(UnstructuredPDFLoader(file_path=file_path).load_and_split(text_splitter))\n",
    "elif file_extention == \"pptx\":\n",
    "    docs.extend(UnstructuredPowerPointLoader(file_path=file_path).load_and_split(text_splitter))\n",
    "elif file_extention == \"docx\":\n",
    "    docs.extend(UnstructuredWordDocumentLoader(file_path=file_path).load_and_split(text_splitter))"
   ]
  },
  {
   "cell_type": "code",
   "execution_count": null,
   "id": "11f61bf6-968e-48d5-9b8a-7e4d82e336a3",
   "metadata": {},
   "outputs": [],
   "source": [
    "docs"
   ]
  },
  {
   "cell_type": "code",
   "execution_count": null,
   "id": "0013e1c2-2b65-4aee-822a-d8087100f5a3",
   "metadata": {},
   "outputs": [],
   "source": [
    "vectorstore = FAISS.from_documents(documents=docs,embedding=OpenAIEmbeddings())"
   ]
  },
  {
   "cell_type": "code",
   "execution_count": null,
   "id": "0535a47c-81f3-4578-af30-8f64f136a99f",
   "metadata": {},
   "outputs": [],
   "source": [
    "\n",
    "\n",
    "memory = ConversationBufferMemory(\n",
    "        memory_key='chat_history', return_messages=True)\n",
    "conversation_chain = ConversationalRetrievalChain.from_llm(\n",
    "        llm=llm,\n",
    "        retriever=vectorstore.as_retriever(),\n",
    "        chain_type=\"map_reduce\",\n",
    "        memory=memory\n",
    "    )"
   ]
  },
  {
   "cell_type": "code",
   "execution_count": 46,
   "id": "fb035347-ea07-42ae-84c5-309249455f76",
   "metadata": {},
   "outputs": [],
   "source": [
    "import uuid"
   ]
  },
  {
   "cell_type": "code",
   "execution_count": 25,
   "id": "74656f29-0ddd-4d24-86c0-f0ecbcdc928a",
   "metadata": {},
   "outputs": [],
   "source": [
    "llm = ChatOpenAI(model=\"gpt-3.5-turbo-16k\")"
   ]
  },
  {
   "cell_type": "code",
   "execution_count": 53,
   "id": "b26c8854-a116-49ef-a455-6e7ea1663413",
   "metadata": {},
   "outputs": [],
   "source": [
    "randomId = str(uuid.uuid1()).replace(\"-\",\"\")"
   ]
  },
  {
   "cell_type": "code",
   "execution_count": 20,
   "id": "1429c0b1-40fb-4804-bfab-2199d331a85a",
   "metadata": {},
   "outputs": [],
   "source": [
    "from langchain import agents"
   ]
  },
  {
   "cell_type": "code",
   "execution_count": 21,
   "id": "98d41842-9c75-4088-9db9-34d860ebb19f",
   "metadata": {},
   "outputs": [],
   "source": [
    "import pandas"
   ]
  },
  {
   "cell_type": "code",
   "execution_count": 22,
   "id": "a2c5eaaa-5440-461c-b894-8a405067a387",
   "metadata": {},
   "outputs": [],
   "source": [
    "df = pandas.read_csv(\"../resources/Data Request.csv\")"
   ]
  },
  {
   "cell_type": "code",
   "execution_count": 26,
   "id": "0a12f2a6-9506-4ac5-97bb-2cfa231f0cd5",
   "metadata": {},
   "outputs": [],
   "source": [
    "agent = agents.create_pandas_dataframe_agent(llm,df=df,handle_parsing_errors=True,verbose=True)"
   ]
  },
  {
   "cell_type": "code",
   "execution_count": 27,
   "id": "39f11994-1851-4deb-bade-3f2d91a90ca8",
   "metadata": {},
   "outputs": [],
   "source": [
    "import sys\n",
    "import io\n",
    "\n",
    "# Create a custom stream to capture output\n",
    "output_stream = io.StringIO()\n",
    "sys.stdout = output_stream\n",
    "\n",
    "# Import and use the third-party module that generates plots\n",
    "\n",
    "# Get the captured output\n",
    "\n",
    "\n",
    "# Parse the captured output for plots\n",
    "# This might require some text parsing to identify and extract plot data\n"
   ]
  },
  {
   "cell_type": "code",
   "execution_count": 30,
   "id": "614b7ceb-7fbf-4dea-b265-2b3d9a8b62fb",
   "metadata": {},
   "outputs": [],
   "source": [
    "import matplotlib.pyplot as plt\n"
   ]
  },
  {
   "cell_type": "code",
   "execution_count": 33,
   "id": "0e9db120-5b1c-475f-b771-3b9b78b29f9b",
   "metadata": {},
   "outputs": [],
   "source": [
    "def capture_and_save_current_figure():\n",
    "    fig = plt.gcf()\n",
    "    if fig:\n",
    "        # Generate a unique filename or save with a timestamp\n",
    "        filename = f\"captured_plot.png\"\n",
    "        fig.savefig(filename)\n",
    "        plt.close(fig)"
   ]
  },
  {
   "cell_type": "code",
   "execution_count": 36,
   "id": "1c7b59b8-058d-4254-b956-564011b9e6de",
   "metadata": {},
   "outputs": [],
   "source": [
    "capture_and_save_current_figure()"
   ]
  },
  {
   "cell_type": "code",
   "execution_count": null,
   "id": "65983c71-0c79-404c-8d6d-8568dee17b2a",
   "metadata": {},
   "outputs": [],
   "source": [
    "agent.run(\"plot a pie chart for top 10 cities\")"
   ]
  },
  {
   "cell_type": "code",
   "execution_count": null,
   "id": "813b9f6f-1e4c-4db9-8b85-79b89f06f9e5",
   "metadata": {},
   "outputs": [],
   "source": [
    "plt.gcf"
   ]
  },
  {
   "cell_type": "code",
   "execution_count": null,
   "id": "f908a96b-cd87-449e-a13e-c3ac40e8a869",
   "metadata": {},
   "outputs": [],
   "source": [
    "import sys\n",
    "import matplotlib.pyplot as plt\n",
    "\n",
    "# A custom function to capture and save the figure\n",
    "def capture_and_save_figure(figure):\n",
    "    figure.savefig('captured_plot.png')\n",
    "    plt.close(figure)\n",
    "\n",
    "# Custom trace function to capture plot figures\n",
    "def trace_plot_calls(frame, event, arg):\n",
    "    if event == 'call':\n",
    "        # Capture the current figure and save it\n",
    "        fig = plt.gcf()\n",
    "        if fig:\n",
    "            capture_and_save_figure(fig)\n",
    "\n",
    "# Set up the trace function\n",
    "sys.settrace(None)\n"
   ]
  }
 ],
 "metadata": {
  "kernelspec": {
   "display_name": "Python 3 (ipykernel)",
   "language": "python",
   "name": "python3"
  },
  "language_info": {
   "codemirror_mode": {
    "name": "ipython",
    "version": 3
   },
   "file_extension": ".py",
   "mimetype": "text/x-python",
   "name": "python",
   "nbconvert_exporter": "python",
   "pygments_lexer": "ipython3",
   "version": "3.11.5"
  }
 },
 "nbformat": 4,
 "nbformat_minor": 5
}
